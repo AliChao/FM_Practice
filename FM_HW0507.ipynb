{
 "cells": [
  {
   "cell_type": "markdown",
   "metadata": {},
   "source": [
    "# 月存整付（FV）"
   ]
  },
  {
   "cell_type": "markdown",
   "metadata": {},
   "source": [
    "### 1. 土地銀行一年期的的定存年利率為1.36%，若每月月底定存1萬元，請依目前公告一年期定存固定利率計算，3年後本金加利息共存多少錢？\n"
   ]
  },
  {
   "cell_type": "code",
   "execution_count": 3,
   "metadata": {},
   "outputs": [
    {
     "data": {
      "text/plain": [
       "367232.5730718329"
      ]
     },
     "execution_count": 3,
     "metadata": {},
     "output_type": "execute_result"
    }
   ],
   "source": [
    "#導入package\n",
    "import numpy as np\n",
    "#計算終值\n",
    "np.fv(0.0136/12, 36, -10000,0,0)\n"
   ]
  },
  {
   "cell_type": "markdown",
   "metadata": {},
   "source": [
    "### 2. 若本月底定存100萬元，請依目前公告一年期定存固定利率計算，3年後本金加利息共存多少錢？"
   ]
  },
  {
   "cell_type": "code",
   "execution_count": 20,
   "metadata": {},
   "outputs": [
    {
     "data": {
      "text/plain": [
       "1041619.6916148077"
      ]
     },
     "execution_count": 20,
     "metadata": {},
     "output_type": "execute_result"
    }
   ],
   "source": [
    "np.fv(0.0136/12, 36, 0,-1000000,0)"
   ]
  },
  {
   "cell_type": "markdown",
   "metadata": {},
   "source": [
    "# 房屋頭期款（PMT）"
   ]
  },
  {
   "cell_type": "markdown",
   "metadata": {},
   "source": [
    "### 1.假設王先生想要5年後存到200萬元，當作房屋的頭期款，請問每月月初要存入多少錢進土地銀行？假設依據土地銀行一年期定存利率1.36% 計算之。"
   ]
  },
  {
   "cell_type": "code",
   "execution_count": 18,
   "metadata": {},
   "outputs": [
    {
     "data": {
      "text/plain": [
       "32195.233574951548"
      ]
     },
     "execution_count": 18,
     "metadata": {},
     "output_type": "execute_result"
    }
   ],
   "source": [
    "np.pmt(0.0136/12,60,0,-2000000,1)"
   ]
  },
  {
   "cell_type": "markdown",
   "metadata": {},
   "source": [
    "### 2. 陳先生1 年後想帶女友去日本旅行，預算為10萬元的旅遊基金，請問每個月月初需存多少錢？假設依據土地銀行一年期定存利率1.36%計算之。"
   ]
  },
  {
   "cell_type": "code",
   "execution_count": 19,
   "metadata": {},
   "outputs": [
    {
     "data": {
      "text/plain": [
       "8272.141275291597"
      ]
     },
     "execution_count": 19,
     "metadata": {},
     "output_type": "execute_result"
    }
   ],
   "source": [
    "np.pmt(0.0136/12,12,0,-100000,1)"
   ]
  },
  {
   "cell_type": "markdown",
   "metadata": {},
   "source": [
    "# 練習題"
   ]
  },
  {
   "cell_type": "markdown",
   "metadata": {},
   "source": [
    "### Q1:王先生為兒子準備大學教育基金，現在離王小弟上大學還有12 年，目前上大學的總花費為100萬元，每年漲幅5%。請問3 年後王先生應準備多少教育基金，投資於年報酬率10%之金融商品，才可供王小弟就讀大學無虞？（取最接近金額）"
   ]
  },
  {
   "cell_type": "code",
   "execution_count": 26,
   "metadata": {},
   "outputs": [
    {
     "data": {
      "text/plain": [
       "1795856.32602213"
      ]
     },
     "execution_count": 26,
     "metadata": {},
     "output_type": "execute_result"
    }
   ],
   "source": [
    "#計算12年後大學花費成本\n",
    "np.fv(0.05, 12,0,-1000000,0)"
   ]
  },
  {
   "cell_type": "code",
   "execution_count": 27,
   "metadata": {},
   "outputs": [
    {
     "data": {
      "text/plain": [
       "761618.2525399367"
      ]
     },
     "execution_count": 27,
     "metadata": {},
     "output_type": "execute_result"
    }
   ],
   "source": [
    "np.pv(0.1,12-3,0,-1795856,0)"
   ]
  },
  {
   "cell_type": "markdown",
   "metadata": {},
   "source": [
    "### Q2:詹君現有生息資產300萬元，預計20年後購置4,000萬元房屋乙幢，假設實質報酬率3％，則每年平均儲蓄最少應達幾萬元才足夠購屋？"
   ]
  },
  {
   "cell_type": "code",
   "execution_count": 28,
   "metadata": {},
   "outputs": [
    {
     "data": {
      "text/plain": [
       "1286981.1810837863"
      ]
     },
     "execution_count": 28,
     "metadata": {},
     "output_type": "execute_result"
    }
   ],
   "source": [
    "np.pmt(0.03,20,3000000,-40000000,0)"
   ]
  },
  {
   "cell_type": "markdown",
   "metadata": {},
   "source": [
    "### Q3:假設年投資報酬率為6％，預計工作25年後累積500萬元退休金，則每月應儲蓄之金額為多少（取近似值，以最近百元計）？"
   ]
  },
  {
   "cell_type": "code",
   "execution_count": 30,
   "metadata": {},
   "outputs": [
    {
     "data": {
      "text/plain": [
       "7215.0700742757235"
      ]
     },
     "execution_count": 30,
     "metadata": {},
     "output_type": "execute_result"
    }
   ],
   "source": [
    "np.pmt(0.06/12,25*12,0,-5000000,0)"
   ]
  },
  {
   "cell_type": "markdown",
   "metadata": {},
   "source": [
    "### Q4:小王現年40歲，已儲存500萬元，計劃供其60歲退休後生活之用；假設投資報酬率6％，在不考慮通貨膨脹情況下，試問20年後退休時，小王總共累積多少退休金準備（取近似值，以最近萬元計）？"
   ]
  },
  {
   "cell_type": "code",
   "execution_count": 31,
   "metadata": {},
   "outputs": [
    {
     "data": {
      "text/plain": [
       "16035677.36106424"
      ]
     },
     "execution_count": 31,
     "metadata": {},
     "output_type": "execute_result"
    }
   ],
   "source": [
    "np.fv(0.06,20,0,-5000000,0)"
   ]
  },
  {
   "cell_type": "markdown",
   "metadata": {},
   "source": [
    "### Q5:若要5年內累積100萬元，年報酬率10％，則每年最少要投資金額為何？"
   ]
  },
  {
   "cell_type": "code",
   "execution_count": 33,
   "metadata": {},
   "outputs": [
    {
     "data": {
      "text/plain": [
       "163797.48079474524"
      ]
     },
     "execution_count": 33,
     "metadata": {},
     "output_type": "execute_result"
    }
   ],
   "source": [
    "np.pmt(0.1,5,0,-1000000,0)"
   ]
  },
  {
   "cell_type": "markdown",
   "metadata": {},
   "source": [
    "### Q6:曉明預計12年後上大學，屆時需學費80萬元，若小明的父親以30萬元投資平均年報酬率8％的基金，是否足夠？且差額多少？"
   ]
  },
  {
   "cell_type": "code",
   "execution_count": 35,
   "metadata": {},
   "outputs": [
    {
     "data": {
      "text/plain": [
       "755451.0350456941"
      ]
     },
     "execution_count": 35,
     "metadata": {},
     "output_type": "execute_result"
    }
   ],
   "source": [
    "## 計算小明父親12年後的終值\n",
    "FV = np.fv(0.08,12,0,-300000,0)\n",
    "FV"
   ]
  },
  {
   "cell_type": "code",
   "execution_count": 37,
   "metadata": {},
   "outputs": [
    {
     "data": {
      "text/plain": [
       "-44548.964954305906"
      ]
     },
     "execution_count": 37,
     "metadata": {},
     "output_type": "execute_result"
    }
   ],
   "source": [
    "## 計算差額\n",
    "FV - 800000 "
   ]
  },
  {
   "cell_type": "markdown",
   "metadata": {},
   "source": [
    "### Q7:張小姐現有生息資產100萬元，同時每年另以收支結餘之40萬元購買年金，若兩者年投資報酬率均為4%，則張小姐於10年後可累積多少錢？(取最接近之金額)"
   ]
  },
  {
   "cell_type": "code",
   "execution_count": 39,
   "metadata": {},
   "outputs": [
    {
     "data": {
      "text/plain": [
       "6282687.1341017885"
      ]
     },
     "execution_count": 39,
     "metadata": {},
     "output_type": "execute_result"
    }
   ],
   "source": [
    "np.fv(0.04,10,-400000,-1000000,0)"
   ]
  },
  {
   "cell_type": "markdown",
   "metadata": {},
   "source": [
    "### Q8:張太太擬出外上班，如果上班後每月要增加服裝化妝品5,000元、交通費5,000元、外食費5,000元、保母費30,000元，以適用邊際稅率20%而言，則張太太每月稅前薪資收入額至少應為多少才划算？"
   ]
  },
  {
   "cell_type": "code",
   "execution_count": 40,
   "metadata": {},
   "outputs": [
    {
     "data": {
      "text/plain": [
       "45000"
      ]
     },
     "execution_count": 40,
     "metadata": {},
     "output_type": "execute_result"
    }
   ],
   "source": [
    "##計算月消費 \n",
    "Spending_M=5000+5000+5000+30000\n",
    "Spending_M\n"
   ]
  },
  {
   "cell_type": "code",
   "execution_count": 42,
   "metadata": {},
   "outputs": [
    {
     "data": {
      "text/plain": [
       "56250.0"
      ]
     },
     "execution_count": 42,
     "metadata": {},
     "output_type": "execute_result"
    }
   ],
   "source": [
    "##計算稅前收入\n",
    "Income = Spending_M / (1-0.2)\n",
    "Income"
   ]
  },
  {
   "cell_type": "markdown",
   "metadata": {},
   "source": [
    "### Q9:王君以250萬元投資於年投資報酬率2%、12年期到期給付之理財工具，試問到期時王君可領得多少元？(取最接近之金額)"
   ]
  },
  {
   "cell_type": "code",
   "execution_count": 44,
   "metadata": {},
   "outputs": [
    {
     "data": {
      "text/plain": [
       "3170604.4864063635"
      ]
     },
     "execution_count": 44,
     "metadata": {},
     "output_type": "execute_result"
    }
   ],
   "source": [
    "#未表示期初或期末支付，當作期末支付\n",
    "#以年記息計算 FV \n",
    "Return = np.fv(0.02,12,0,-2500000,0)\n",
    "Return"
   ]
  },
  {
   "cell_type": "markdown",
   "metadata": {},
   "source": [
    "# Q&A 購屋與租屋決策"
   ]
  },
  {
   "cell_type": "markdown",
   "metadata": {},
   "source": [
    "### 王大同看上一間40坪的房子，屋主可以出租也可以出售。若租屋每月月初3萬元租金，押金3個月。若是購屋，房屋總價8百萬，可以申請到5百萬的房貸，房貸利率為6%，自備款3百萬。假設一年期的定存利率是3%。老王租屋購屋的年成本為何?"
   ]
  },
  {
   "cell_type": "code",
   "execution_count": 49,
   "metadata": {},
   "outputs": [
    {
     "data": {
      "text/plain": [
       "368641.3977917016"
      ]
     },
     "execution_count": 49,
     "metadata": {},
     "output_type": "execute_result"
    }
   ],
   "source": [
    "#計算租屋年成本 押金FV+租金FV-押金 (月計息,月初付) \n",
    "Cost_Rent = np.fv(0.03/12,12,-30000,-90000,1) - 90000\n",
    "Cost_Rent"
   ]
  },
  {
   "cell_type": "code",
   "execution_count": 55,
   "metadata": {},
   "outputs": [
    {
     "data": {
      "text/plain": [
       "399636.9300630111"
      ]
     },
     "execution_count": 55,
     "metadata": {},
     "output_type": "execute_result"
    }
   ],
   "source": [
    "#計算購屋年成本 計算 頭期款FV+貸款FV - 房屋總價 (月計息,月初付) \n",
    "Cost_buy = np.fv(0.03/12,12,0,-3000000,1)+ np.fv(0.06/12,12,0,-5000000) - 8000000\n",
    "Cost_buy"
   ]
  },
  {
   "cell_type": "code",
   "execution_count": 73,
   "metadata": {
    "scrolled": true
   },
   "outputs": [
    {
     "data": {
      "text/plain": [
       "True"
      ]
     },
     "execution_count": 73,
     "metadata": {},
     "output_type": "execute_result"
    }
   ],
   "source": [
    "Cost_buy > Cost_Rent"
   ]
  },
  {
   "cell_type": "markdown",
   "metadata": {},
   "source": [
    "### 舉例:林先生年收入為1百萬，目前淨資產150萬元，40%為儲蓄自備款與負擔房貸的上限，打算5年購屋，投資報酬率為10%，貸款年限20年，存款利率6%，貸款利率8% ，可以負擔屆時房價為多少?"
   ]
  },
  {
   "cell_type": "code",
   "execution_count": 70,
   "metadata": {},
   "outputs": [
    {
     "data": {
      "text/plain": [
       "4670602.184000002"
      ]
     },
     "execution_count": 70,
     "metadata": {},
     "output_type": "execute_result"
    }
   ],
   "source": [
    "# 計算5年後自備款金額 (年計息)\n",
    "#150萬投資FV\n",
    "MoneyOwn1 = np.fv(0.1,5,0,-1500000,1)\n",
    "# 40萬儲蓄 (月底付)\n",
    "MoneyOwn2 =np.fv(0.06,5,-400000,0,0)\n",
    "#加總\n",
    "Money_Own=MoneyOwn1+MoneyOwn2\n",
    "Money_Own"
   ]
  },
  {
   "cell_type": "code",
   "execution_count": 71,
   "metadata": {},
   "outputs": [],
   "source": [
    "# 計算貸款PV 年金出去折現到現在\n",
    "loan = np.pv(0.08,20,-400000,0,0)"
   ]
  },
  {
   "cell_type": "code",
   "execution_count": 72,
   "metadata": {},
   "outputs": [
    {
     "data": {
      "text/plain": [
       "8597861.14697972"
      ]
     },
     "execution_count": 72,
     "metadata": {},
     "output_type": "execute_result"
    }
   ],
   "source": [
    "Money_Own + loan"
   ]
  },
  {
   "cell_type": "markdown",
   "metadata": {},
   "source": [
    "# PMT  "
   ]
  },
  {
   "cell_type": "markdown",
   "metadata": {},
   "source": [
    "## 房屋貸款不同貸款利率計算（PMT）"
   ]
  },
  {
   "cell_type": "markdown",
   "metadata": {},
   "source": [
    "### Q1.假設王先生已存到200 萬元房屋的頭期款，想買總價700 萬元的房屋，貸款500 萬元，房屋貸款期限為20年，若貸款平均年利率約2 %，請問：\n",
    "(a) 王先生每個月月初須繳多少本金加利息？"
   ]
  },
  {
   "cell_type": "code",
   "execution_count": 5,
   "metadata": {},
   "outputs": [
    {
     "data": {
      "text/plain": [
       "-25252.07995233482"
      ]
     },
     "execution_count": 5,
     "metadata": {},
     "output_type": "execute_result"
    }
   ],
   "source": [
    "np.pmt(0.02/12,20*12,5000000,0,1)"
   ]
  },
  {
   "cell_type": "markdown",
   "metadata": {},
   "source": [
    "(b) 若貸款平均年利率約2.5 %，請問王先生每個月月初須繳多少本金加利息？"
   ]
  },
  {
   "cell_type": "code",
   "execution_count": 6,
   "metadata": {},
   "outputs": [
    {
     "data": {
      "text/plain": [
       "-26440.061190796325"
      ]
     },
     "execution_count": 6,
     "metadata": {},
     "output_type": "execute_result"
    }
   ],
   "source": [
    "np.pmt(0.025/12,20*12,5000000,0,1)"
   ]
  },
  {
   "cell_type": "markdown",
   "metadata": {},
   "source": [
    "(c) 若貸款平均年利率約3%，請問王先生每個月月初須繳多少本金加利息？"
   ]
  },
  {
   "cell_type": "code",
   "execution_count": 8,
   "metadata": {},
   "outputs": [
    {
     "data": {
      "text/plain": [
       "-27660.728072514747"
      ]
     },
     "execution_count": 8,
     "metadata": {},
     "output_type": "execute_result"
    }
   ],
   "source": [
    "np.pmt(0.03/12,20*12,5000000,0,1)"
   ]
  },
  {
   "cell_type": "markdown",
   "metadata": {},
   "source": [
    "## 房屋貸款本金加利息計算（PMT）"
   ]
  },
  {
   "cell_type": "markdown",
   "metadata": {},
   "source": [
    "### Q2 假設王先生已存到150 萬元房屋的頭期款，想買總價1,000 萬元的房屋，貸款850 萬元，房屋貸款期限為20年，若貸款平均年利率約2%，本息平均攤還。請問："
   ]
  },
  {
   "cell_type": "markdown",
   "metadata": {},
   "source": [
    "(a) 王先生每個月月初須繳多少本金加利息？"
   ]
  },
  {
   "cell_type": "code",
   "execution_count": 10,
   "metadata": {},
   "outputs": [
    {
     "data": {
      "text/plain": [
       "-42928.535918969195"
      ]
     },
     "execution_count": 10,
     "metadata": {},
     "output_type": "execute_result"
    }
   ],
   "source": [
    "np.pmt(0.02/12,20*12,8500000,0,1)"
   ]
  },
  {
   "cell_type": "markdown",
   "metadata": {},
   "source": [
    "(b) 若房屋貸款期限為30年，請問王先生每個月月初須繳多少本金加利息？"
   ]
  },
  {
   "cell_type": "code",
   "execution_count": 11,
   "metadata": {},
   "outputs": [
    {
     "data": {
      "text/plain": [
       "-31365.3795459726"
      ]
     },
     "execution_count": 11,
     "metadata": {},
     "output_type": "execute_result"
    }
   ],
   "source": [
    "np.pmt(0.02/12,30*12,8500000,0,1)"
   ]
  },
  {
   "cell_type": "markdown",
   "metadata": {},
   "source": [
    "(c) 若房屋貸款期限為40年，請問王先生每個月月初須繳多少本金加利息？"
   ]
  },
  {
   "cell_type": "code",
   "execution_count": 12,
   "metadata": {},
   "outputs": [
    {
     "data": {
      "text/plain": [
       "-25697.35040979258"
      ]
     },
     "execution_count": 12,
     "metadata": {},
     "output_type": "execute_result"
    }
   ],
   "source": [
    "np.pmt(0.02/12,40*12,8500000,0,1)"
   ]
  },
  {
   "cell_type": "markdown",
   "metadata": {},
   "source": [
    "## 房屋貸款本金與利息（PMT 與PPMT）"
   ]
  },
  {
   "cell_type": "markdown",
   "metadata": {},
   "source": [
    "### Q3 黃先生向銀行貸款500 萬元，房屋貸款期限為20 年與房貸年利率2.35% ，請問："
   ]
  },
  {
   "cell_type": "markdown",
   "metadata": {},
   "source": [
    "(a) 每1 個月本金加利息要多少錢？"
   ]
  },
  {
   "cell_type": "code",
   "execution_count": 15,
   "metadata": {},
   "outputs": [
    {
     "data": {
      "text/plain": [
       "-26080.217021870685"
      ]
     },
     "execution_count": 15,
     "metadata": {},
     "output_type": "execute_result"
    }
   ],
   "source": [
    "np.pmt(0.0235/12,20*12,5000000,0,1)"
   ]
  },
  {
   "cell_type": "code",
   "execution_count": 30,
   "metadata": {},
   "outputs": [
    {
     "data": {
      "text/plain": [
       "-26080.217021870685"
      ]
     },
     "execution_count": 30,
     "metadata": {},
     "output_type": "execute_result"
    }
   ],
   "source": [
    "#前三個月本金 (第一期)\n",
    "ppmt1 = np.ppmt(0.0235/12,1,20*12,5000000,0,1)\n",
    "ppmt1"
   ]
  },
  {
   "cell_type": "code",
   "execution_count": 31,
   "metadata": {},
   "outputs": [
    {
     "data": {
      "text/plain": [
       "-16339.624113538515"
      ]
     },
     "execution_count": 31,
     "metadata": {},
     "output_type": "execute_result"
    }
   ],
   "source": [
    "#前三個月本金 (第二期)\n",
    "ppmt2 = np.ppmt(0.0235/12,2,20*12,5000000,0,1)\n",
    "ppmt2"
   ]
  },
  {
   "cell_type": "code",
   "execution_count": 32,
   "metadata": {},
   "outputs": [
    {
     "data": {
      "text/plain": [
       "-16371.622544094194"
      ]
     },
     "execution_count": 32,
     "metadata": {},
     "output_type": "execute_result"
    }
   ],
   "source": [
    "#前三個月本金 (第三期)\n",
    "ppmt3 = np.ppmt(0.0235/12,3,20*12,5000000,0,1)\n",
    "ppmt3"
   ]
  },
  {
   "cell_type": "code",
   "execution_count": 35,
   "metadata": {},
   "outputs": [
    {
     "data": {
      "text/plain": [
       "-58791.463679503395"
      ]
     },
     "execution_count": 35,
     "metadata": {},
     "output_type": "execute_result"
    }
   ],
   "source": [
    "#前三個月本金 (總和)\n",
    "ppmt1+ppmt2+ppmt3"
   ]
  },
  {
   "cell_type": "code",
   "execution_count": 62,
   "metadata": {},
   "outputs": [
    {
     "data": {
      "text/plain": [
       "array(0.)"
      ]
     },
     "execution_count": 62,
     "metadata": {},
     "output_type": "execute_result"
    }
   ],
   "source": [
    "#前三個月利息 (第一期)\n",
    "ipmt1 = np.ipmt(0.0235/12,1,20*12,5000000,0,1)\n",
    "ipmt1"
   ]
  },
  {
   "cell_type": "code",
   "execution_count": 51,
   "metadata": {},
   "outputs": [
    {
     "data": {
      "text/plain": [
       "array(-9740.59290833)"
      ]
     },
     "execution_count": 51,
     "metadata": {},
     "output_type": "execute_result"
    }
   ],
   "source": [
    "#前三個月利息 (第二期)\n",
    "ipmt2 = np.ipmt(0.0235/12,2,20*12,5000000,0,1)\n",
    "ipmt2"
   ]
  },
  {
   "cell_type": "code",
   "execution_count": 52,
   "metadata": {},
   "outputs": [
    {
     "data": {
      "text/plain": [
       "array(-9708.59447778)"
      ]
     },
     "execution_count": 52,
     "metadata": {},
     "output_type": "execute_result"
    }
   ],
   "source": [
    "#前三個月利息 (第三期)\n",
    "ipmt3 = np.ipmt(0.0235/12,3,20*12,5000000,0,1)\n",
    "ipmt3"
   ]
  },
  {
   "cell_type": "code",
   "execution_count": 53,
   "metadata": {},
   "outputs": [
    {
     "data": {
      "text/plain": [
       "-19449.18738610866"
      ]
     },
     "execution_count": 53,
     "metadata": {},
     "output_type": "execute_result"
    }
   ],
   "source": [
    "#前三個月利息  (總和)\n",
    "ipmt1+ipmt2+ipmt3"
   ]
  },
  {
   "cell_type": "markdown",
   "metadata": {},
   "source": [
    "### Q4. 小陳申請房屋貸款200 萬元，年利率5%，期間10 年，採本利平均攤還法按年清償，試問小陳第2 年清償貸款之本金金額為多少元？（取最接近金額）"
   ]
  },
  {
   "cell_type": "code",
   "execution_count": 67,
   "metadata": {},
   "outputs": [
    {
     "data": {
      "text/plain": [
       "-166959.60742745892"
      ]
     },
     "execution_count": 67,
     "metadata": {},
     "output_type": "execute_result"
    }
   ],
   "source": [
    "ppmt2 = np.ppmt(0.05,2,10,2000000,0,0)\n",
    "ppmt2"
   ]
  },
  {
   "cell_type": "markdown",
   "metadata": {},
   "source": [
    "### Q5. 小陳年薪扣除開銷後每年餘額為80萬元；今小陳向銀行辦理房屋貸款500萬元，利率7％，期間20年，按年定期還款。倘小陳年薪餘額扣除房貸後逐年持續定存（定存利率3％），試問20年後定存總額為何（取最接近金額）？"
   ]
  },
  {
   "cell_type": "code",
   "execution_count": 70,
   "metadata": {},
   "outputs": [
    {
     "data": {
      "text/plain": [
       "-471964.62871627836"
      ]
     },
     "execution_count": 70,
     "metadata": {},
     "output_type": "execute_result"
    }
   ],
   "source": [
    "## 計算每年貸款還款金額\n",
    "pmt_5 = np.pmt(0.07,20,5000000,0)\n",
    "pmt_5"
   ]
  },
  {
   "cell_type": "code",
   "execution_count": 71,
   "metadata": {},
   "outputs": [
    {
     "data": {
      "text/plain": [
       "328035.37128372164"
      ]
     },
     "execution_count": 71,
     "metadata": {},
     "output_type": "execute_result"
    }
   ],
   "source": [
    "## 計算每年年末餘額\n",
    "save_year = 800000 + pmt_5 \n",
    "save_year"
   ]
  },
  {
   "cell_type": "code",
   "execution_count": 73,
   "metadata": {},
   "outputs": [
    {
     "data": {
      "text/plain": [
       "8814433.27202536"
      ]
     },
     "execution_count": 73,
     "metadata": {},
     "output_type": "execute_result"
    }
   ],
   "source": [
    "## 計算20年後 FV\n",
    "np.fv(0.03,20,-save_year,0,0)"
   ]
  },
  {
   "cell_type": "markdown",
   "metadata": {},
   "source": [
    "### Q6. 假設某甲向銀行辦理房屋貸款360萬元，貸款利率5％，期限20年，按年本利平均攤還，請問第一期應償還多少本金（取近似值，以最近百元計）？"
   ]
  },
  {
   "cell_type": "code",
   "execution_count": 74,
   "metadata": {},
   "outputs": [
    {
     "data": {
      "text/plain": [
       "-108873.31388648867"
      ]
     },
     "execution_count": 74,
     "metadata": {},
     "output_type": "execute_result"
    }
   ],
   "source": [
    "np.ppmt(0.05,1,20,3600000,0,0)"
   ]
  },
  {
   "cell_type": "markdown",
   "metadata": {},
   "source": [
    "### Q7. 美惠計劃3年後累積一筆購屋頭期款，其目前已有存款60萬元，預計每年儲蓄30萬元，假設4％的報酬率，80％的貸款比率，請問屆時最多可買總價幾萬元的房子？"
   ]
  },
  {
   "cell_type": "code",
   "execution_count": 77,
   "metadata": {},
   "outputs": [
    {
     "data": {
      "text/plain": [
       "80569920.00000004"
      ]
     },
     "execution_count": 77,
     "metadata": {},
     "output_type": "execute_result"
    }
   ],
   "source": [
    "np.fv(0.04,3,-300000,-600000,0)/0.02"
   ]
  },
  {
   "cell_type": "markdown",
   "metadata": {},
   "source": [
    "### Q8. 阿強想在3年後買一部50萬元的車，目前手上有10萬元、年利率2%、按年複利之存款帳戶，則阿強每年至少尚須存多少錢於該存款帳戶？(取最接近之金額)"
   ]
  },
  {
   "cell_type": "code",
   "execution_count": 80,
   "metadata": {},
   "outputs": [
    {
     "data": {
      "text/plain": [
       "128701.86903672689"
      ]
     },
     "execution_count": 80,
     "metadata": {},
     "output_type": "execute_result"
    }
   ],
   "source": [
    "np.pmt(0.02,3,100000,-500000)"
   ]
  },
  {
   "cell_type": "markdown",
   "metadata": {},
   "source": [
    "### Q9.小趙初入職場即向銀行辦理一筆年利率6%、期間20年之房貸400萬元，約定以本利平均攤還方式按年定期還款，其每年工作結餘60萬元，用以償還房貸並逐年將餘額全數投資至年投資報酬率為3%之基金，則小趙於20年後完成該筆房貸之清償時，另積蓄多少錢？(取最接近之金額)"
   ]
  },
  {
   "cell_type": "code",
   "execution_count": 81,
   "metadata": {},
   "outputs": [
    {
     "data": {
      "text/plain": [
       "-348738.2279074056"
      ]
     },
     "execution_count": 81,
     "metadata": {},
     "output_type": "execute_result"
    }
   ],
   "source": [
    "## 計算每年支付貸款金額\n",
    "repaymen_year = np.pmt(0.06,20,4000000,0,0)\n",
    "repaymen_year"
   ]
  },
  {
   "cell_type": "code",
   "execution_count": 82,
   "metadata": {},
   "outputs": [
    {
     "data": {
      "text/plain": [
       "251261.77209259442"
      ]
     },
     "execution_count": 82,
     "metadata": {},
     "output_type": "execute_result"
    }
   ],
   "source": [
    "#每年儲蓄\n",
    "save_year = 600000+repaymen_year\n",
    "save_year"
   ]
  },
  {
   "cell_type": "code",
   "execution_count": 84,
   "metadata": {},
   "outputs": [
    {
     "data": {
      "text/plain": [
       "6751497.9108928805"
      ]
     },
     "execution_count": 84,
     "metadata": {},
     "output_type": "execute_result"
    }
   ],
   "source": [
    "# 20年後FV\n",
    "np.fv(0.03,20,-save_year,0,0)"
   ]
  },
  {
   "cell_type": "markdown",
   "metadata": {},
   "source": [
    "### Q10.小李目前年收入為100 萬元，淨資產200 萬元，計畫於4 年後購屋。今小李除淨資產外，另以年收入之50%作為購屋自備款，假設年投資報酬率為8%，則屆時累積之購屋自備款為多少元?（取最接近金額）"
   ]
  },
  {
   "cell_type": "code",
   "execution_count": 86,
   "metadata": {},
   "outputs": [
    {
     "data": {
      "text/plain": [
       "4974033.920000002"
      ]
     },
     "execution_count": 86,
     "metadata": {},
     "output_type": "execute_result"
    }
   ],
   "source": [
    "np.fv(0.08,4,-500000,-2000000,0)"
   ]
  },
  {
   "cell_type": "code",
   "execution_count": null,
   "metadata": {},
   "outputs": [],
   "source": []
  }
 ],
 "metadata": {
  "kernelspec": {
   "display_name": "Python 3",
   "language": "python",
   "name": "python3"
  },
  "language_info": {
   "codemirror_mode": {
    "name": "ipython",
    "version": 3
   },
   "file_extension": ".py",
   "mimetype": "text/x-python",
   "name": "python",
   "nbconvert_exporter": "python",
   "pygments_lexer": "ipython3",
   "version": "3.7.1"
  }
 },
 "nbformat": 4,
 "nbformat_minor": 2
}
