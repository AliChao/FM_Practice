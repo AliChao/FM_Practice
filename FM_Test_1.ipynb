{
 "cells": [
  {
   "cell_type": "markdown",
   "metadata": {},
   "source": [
    "## Q1: A先生想要5年後存到200萬元，當作房屋的頭期款，請問每月月底要存入多少錢進土地銀行？假設依據土地銀行一年期定存利率1.36% 計算之。\n"
   ]
  },
  {
   "cell_type": "code",
   "execution_count": 1,
   "metadata": {},
   "outputs": [],
   "source": [
    "#導入package\n",
    "import numpy as np"
   ]
  },
  {
   "cell_type": "code",
   "execution_count": 2,
   "metadata": {},
   "outputs": [
    {
     "data": {
      "text/plain": [
       "32231.721506336493"
      ]
     },
     "execution_count": 2,
     "metadata": {},
     "output_type": "execute_result"
    }
   ],
   "source": [
    "np.pmt(0.0136/12,12*5,0,-2000000,0)"
   ]
  },
  {
   "cell_type": "markdown",
   "metadata": {},
   "source": [
    "ANS : 32231.72 元"
   ]
  },
  {
   "cell_type": "markdown",
   "metadata": {},
   "source": [
    "## Q2:A太太為兒子準備大學教育基金，現在離王小弟上大學還有10 年，目前上大學的總花費為80萬元，每年漲幅2%。請問3 年後王先生應準備多少教育基金，投資於年報酬率5%之金融商品，才可供王小弟就讀大學無虞？\n"
   ]
  },
  {
   "cell_type": "code",
   "execution_count": 4,
   "metadata": {},
   "outputs": [
    {
     "data": {
      "text/plain": [
       "975195.5359958059"
      ]
     },
     "execution_count": 4,
     "metadata": {},
     "output_type": "execute_result"
    }
   ],
   "source": [
    "## 計算王小弟10年後上大學所需費用\n",
    "Cost = np.fv(0.02,10,0,-800000)\n",
    "Cost"
   ]
  },
  {
   "cell_type": "code",
   "execution_count": 5,
   "metadata": {},
   "outputs": [
    {
     "data": {
      "text/plain": [
       "693053.2606584559"
      ]
     },
     "execution_count": 5,
     "metadata": {},
     "output_type": "execute_result"
    }
   ],
   "source": [
    "## 計算王先生3年後需準備多少錢\n",
    "np.pv(0.05,7,0,-Cost)"
   ]
  },
  {
   "cell_type": "markdown",
   "metadata": {},
   "source": [
    "ANS : 693053.26 元"
   ]
  },
  {
   "cell_type": "markdown",
   "metadata": {},
   "source": [
    "## Q3:A先生現有300萬元放於投資基金，基金年報酬率5%，預計15年後購置2,000萬元房屋乙幢，則每年平均儲蓄最少應達幾萬元才足夠購屋(假設儲蓄利率3％)？\n",
    "\n"
   ]
  },
  {
   "cell_type": "code",
   "execution_count": 8,
   "metadata": {},
   "outputs": [
    {
     "data": {
      "text/plain": [
       "6236784.538234106"
      ]
     },
     "execution_count": 8,
     "metadata": {},
     "output_type": "execute_result"
    }
   ],
   "source": [
    "## 計算300萬放15年得 FV\n",
    "fund = np.fv(0.05,15,0,-3000000)\n",
    "fund"
   ]
  },
  {
   "cell_type": "code",
   "execution_count": 11,
   "metadata": {},
   "outputs": [
    {
     "data": {
      "text/plain": [
       "13763215.461765893"
      ]
     },
     "execution_count": 11,
     "metadata": {},
     "output_type": "execute_result"
    }
   ],
   "source": [
    "## 計算差額\n",
    "gap = 20000000-fund\n",
    "gap"
   ]
  },
  {
   "cell_type": "code",
   "execution_count": 12,
   "metadata": {},
   "outputs": [
    {
     "data": {
      "text/plain": [
       "740001.0315448421"
      ]
     },
     "execution_count": 12,
     "metadata": {},
     "output_type": "execute_result"
    }
   ],
   "source": [
    "## 計算年付金額\n",
    "np.pmt(0.03,15,0,-gap)"
   ]
  },
  {
   "cell_type": "markdown",
   "metadata": {},
   "source": [
    "ANS : 每年約存74萬元"
   ]
  },
  {
   "cell_type": "markdown",
   "metadata": {},
   "source": [
    "## Q4:A先生看上一間40坪的房子，屋主可以出租也可以出售。若租屋每月月初5萬元租金，不用押金。若是購屋，房屋總價6百萬，可以申請到3百萬的房貸，房貸利率為3%，自備款3百萬。假設一年期的定存利率是2%。老王租屋購屋的年成本為何?\n"
   ]
  },
  {
   "cell_type": "code",
   "execution_count": 15,
   "metadata": {},
   "outputs": [
    {
     "data": {
      "text/plain": [
       "606539.8882291287"
      ]
     },
     "execution_count": 15,
     "metadata": {},
     "output_type": "execute_result"
    }
   ],
   "source": [
    "## 租屋成本\n",
    "np.fv(0.02/12,12,-50000,0,1)"
   ]
  },
  {
   "cell_type": "code",
   "execution_count": 19,
   "metadata": {},
   "outputs": [
    {
     "data": {
      "text/plain": [
       "151800.9377850257"
      ]
     },
     "execution_count": 19,
     "metadata": {},
     "output_type": "execute_result"
    }
   ],
   "source": [
    "#計算購屋年成本 計算 頭期款FV+貸款FV - 房屋總價 (月計息,月初付) \n",
    "Cost_buy = np.fv(0.02/12,12,0,-3000000,1)+ np.fv(0.03/12,12,0,-3000000) - 6000000\n",
    "Cost_buy"
   ]
  },
  {
   "cell_type": "markdown",
   "metadata": {},
   "source": [
    "租屋年成本 : 606539.89\n",
    "購屋年成本 : 151800.93"
   ]
  },
  {
   "cell_type": "markdown",
   "metadata": {},
   "source": [
    "## Q5:A先生向銀行辦理一筆年利率4%、期間15年之房貸400萬元，約定以本利平均攤還方式按年定期還款，其每年工作結餘50萬元，用以償還房貸並逐年將餘額全數投資至年投資報酬率為3%之基金，則小趙於15年後完成該筆房貸之清償時，另積蓄多少錢？\n"
   ]
  },
  {
   "cell_type": "code",
   "execution_count": 21,
   "metadata": {},
   "outputs": [
    {
     "data": {
      "text/plain": [
       "-359764.4014838926"
      ]
     },
     "execution_count": 21,
     "metadata": {},
     "output_type": "execute_result"
    }
   ],
   "source": [
    "##計算小趙(A先生)年需繳多少貸款\n",
    "loan = np.pmt(0.04,15,4000000,0,0)\n",
    "loan"
   ]
  },
  {
   "cell_type": "code",
   "execution_count": 23,
   "metadata": {},
   "outputs": [
    {
     "data": {
      "text/plain": [
       "140235.59851610742"
      ]
     },
     "execution_count": 23,
     "metadata": {},
     "output_type": "execute_result"
    }
   ],
   "source": [
    "save = 500000+loan\n",
    "save"
   ]
  },
  {
   "cell_type": "code",
   "execution_count": 24,
   "metadata": {},
   "outputs": [
    {
     "data": {
      "text/plain": [
       "2608229.820649818"
      ]
     },
     "execution_count": 24,
     "metadata": {},
     "output_type": "execute_result"
    }
   ],
   "source": [
    "np.fv(0.03,15,-save,0,0)"
   ]
  },
  {
   "cell_type": "markdown",
   "metadata": {},
   "source": [
    "ANS : 2608229.82 元"
   ]
  },
  {
   "cell_type": "code",
   "execution_count": null,
   "metadata": {},
   "outputs": [],
   "source": []
  }
 ],
 "metadata": {
  "kernelspec": {
   "display_name": "Python 3",
   "language": "python",
   "name": "python3"
  },
  "language_info": {
   "codemirror_mode": {
    "name": "ipython",
    "version": 3
   },
   "file_extension": ".py",
   "mimetype": "text/x-python",
   "name": "python",
   "nbconvert_exporter": "python",
   "pygments_lexer": "ipython3",
   "version": "3.7.1"
  }
 },
 "nbformat": 4,
 "nbformat_minor": 2
}
